{
 "cells": [
  {
   "cell_type": "code",
   "execution_count": null,
   "metadata": {
    "collapsed": false,
    "scrolled": true
   },
   "outputs": [],
   "source": [
    "### Import the data for MNIST, this will be downloaded if\n",
    "### necessary or copy it over manually into the directory\n",
    "### MNIST_data`\n",
    "from tensorflow.examples.tutorials.mnist import input_data\n",
    "mnist = input_data.read_data_sets('MNIST_data', one_hot=True)"
   ]
  },
  {
   "cell_type": "code",
   "execution_count": null,
   "metadata": {
    "collapsed": true
   },
   "outputs": [],
   "source": [
    "### Import the tensorflow module\n",
    "import tensorflow as tf"
   ]
  },
  {
   "cell_type": "code",
   "execution_count": null,
   "metadata": {
    "collapsed": true
   },
   "outputs": [],
   "source": [
    "### x is for the input y_ holds the output\n",
    "x = tf.placeholder(tf.float32, shape=[None, 784]) # for the input data 28*28 image as a vector\n",
    "y_ = tf.placeholder(tf.float32, shape=[None, 10]) # output layer has 10 classes\n",
    "\n",
    "### W acts as the weights matrix and b is the bias\n",
    "W = tf.Variable(tf.zeros([784,10]))\n",
    "b = tf.Variable(tf.zeros([10]))\n",
    "\n",
    "### y = xW + b\n",
    "y = tf.matmul(x,W) + b"
   ]
  },
  {
   "cell_type": "code",
   "execution_count": null,
   "metadata": {
    "collapsed": true
   },
   "outputs": [],
   "source": [
    "### The cross entropy loss\n",
    "cross_entropy = tf.reduce_mean(\n",
    "    tf.nn.softmax_cross_entropy_with_logits(labels=y_, logits=y))\n",
    "\n",
    "### The training algorithm, gradient descent based on cross entropy\n",
    "train_step = tf.train.GradientDescentOptimizer(0.5).minimize(cross_entropy)"
   ]
  },
  {
   "cell_type": "code",
   "execution_count": null,
   "metadata": {
    "collapsed": true
   },
   "outputs": [],
   "source": [
    "### Work out the accuracy by using y_ as the estimated label and y as \n",
    "### the true label (GT).\n",
    "correct_prediction = tf.equal(tf.argmax(y,1), tf.argmax(y_,1))\n",
    "accuracy = tf.reduce_mean(tf.cast(correct_prediction, tf.float32))"
   ]
  },
  {
   "cell_type": "code",
   "execution_count": null,
   "metadata": {
    "collapsed": true
   },
   "outputs": [],
   "source": [
    "### Initialise the variables of the graph e.g. x, y_, W, b\n",
    "sess = tf.Session()\n",
    "sess.run(tf.global_variables_initializer())"
   ]
  },
  {
   "cell_type": "code",
   "execution_count": null,
   "metadata": {
    "collapsed": false
   },
   "outputs": [],
   "source": [
    "### Go through and for 1000 iterations, using a batch of 100 samples\n",
    "for i in range(1000):\n",
    "  # Randomly select a batch of 100 samples\n",
    "  batch = mnist.train.next_batch(100)\n",
    "    \n",
    "  # Take the images and x is equal to them, y_ is equal to the labels\n",
    "  _, xentropy = sess.run([train_step, cross_entropy], feed_dict={x: batch[0], y_: batch[1]})\n",
    "    \n",
    "  # Provide debug about every 100 iterations\n",
    "  if i % 100 == 0:\n",
    "    train_accuracy = sess.run(accuracy, feed_dict={x: batch[0], y_: batch[1]})\n",
    "    print('step %d, training accuracy %g' % (i, train_accuracy))  "
   ]
  },
  {
   "cell_type": "code",
   "execution_count": null,
   "metadata": {
    "collapsed": false
   },
   "outputs": [],
   "source": [
    "### provide all the test images as the input x and all the test labels\n",
    "### as y_\n",
    "print(sess.run(accuracy,feed_dict={x: mnist.test.images, y_: mnist.test.labels}))"
   ]
  }
 ],
 "metadata": {
  "kernelspec": {
   "display_name": "Python 2",
   "language": "python",
   "name": "python2"
  },
  "language_info": {
   "codemirror_mode": {
    "name": "ipython",
    "version": 2
   },
   "file_extension": ".py",
   "mimetype": "text/x-python",
   "name": "python",
   "nbconvert_exporter": "python",
   "pygments_lexer": "ipython2",
   "version": "2.7.9"
  }
 },
 "nbformat": 4,
 "nbformat_minor": 2
}
