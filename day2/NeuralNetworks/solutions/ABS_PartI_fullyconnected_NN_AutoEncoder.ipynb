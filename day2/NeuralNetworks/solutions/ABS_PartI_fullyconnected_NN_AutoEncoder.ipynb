{
 "cells": [
  {
   "cell_type": "code",
   "execution_count": 1,
   "metadata": {
    "collapsed": false,
    "scrolled": true
   },
   "outputs": [
    {
     "name": "stderr",
     "output_type": "stream",
     "text": [
      "Couldn't import dot_parser, loading of dot files will not be possible.\n"
     ]
    },
    {
     "name": "stdout",
     "output_type": "stream",
     "text": [
      "Extracting MNIST_data/train-images-idx3-ubyte.gz\n",
      "Extracting MNIST_data/train-labels-idx1-ubyte.gz\n",
      "Extracting MNIST_data/t10k-images-idx3-ubyte.gz\n",
      "Extracting MNIST_data/t10k-labels-idx1-ubyte.gz\n"
     ]
    }
   ],
   "source": [
    "### Import the data for MNIST, this will be downloaded if\n",
    "### necessary or copy it over manually into the directory\n",
    "### MNIST_data`\n",
    "from tensorflow.examples.tutorials.mnist import input_data\n",
    "mnist = input_data.read_data_sets('MNIST_data', one_hot=True)"
   ]
  },
  {
   "cell_type": "code",
   "execution_count": 2,
   "metadata": {
    "collapsed": true
   },
   "outputs": [],
   "source": [
    "### Import the tensorflow module and create a session\n",
    "import tensorflow as tf\n",
    "import math\n",
    "import matplotlib.pyplot as plt\n",
    "import scipy\n",
    "\n",
    "### A helper function to randomly initialise weights\n",
    "def my_weights(n_inputs, n_outputs, name='default_weights'):\n",
    "  return tf.Variable(tf.truncated_normal([n_inputs, n_outputs],\n",
    "               stddev=1.0/math.sqrt(float(n_inputs))), name=name)"
   ]
  },
  {
   "cell_type": "code",
   "execution_count": 3,
   "metadata": {
    "collapsed": false
   },
   "outputs": [],
   "source": [
    "### x is for the input y_ holds the output\n",
    "x = tf.placeholder(tf.float32, shape=[None, 784]) # for the input data 28*28 image as a vector\n",
    "\n",
    "###\n",
    "n_D = 784\n",
    "n_1 = 600\n",
    "n_2 = 200\n",
    "n_c = 10\n",
    "\n",
    "### Encoding layer 1.\n",
    "W_1 = my_weights(784, n_1, name='W_layer1')\n",
    "b_1 = tf.Variable(tf.zeros([n_1]))\n",
    "\n",
    "### Encoding layer 2.\n",
    "W_2 = my_weights(n_1, n_2, name='W_layer2')\n",
    "b_2 = tf.Variable(tf.zeros([n_2]))\n",
    "\n",
    "### Decoding layer 1 (from n_2 to n_1)\n",
    "dW_1 = my_weights(n_2, n_1, name='Decoding_W_layer1')\n",
    "db_1 = tf.Variable(tf.zeros([n_1]))\n",
    "\n",
    "### Decoding layer 2 (from n_1 to n_D)\n",
    "dW_2 = my_weights(n_1, n_D, name='Decoding_W_layer2')\n",
    "db_2 = tf.Variable(tf.zeros([n_D]))\n",
    "\n",
    "### Put it all together...\n",
    "# Inputs to encoding layer 1\n",
    "enc_layer1 = tf.nn.sigmoid(tf.matmul(x,W_1) + b_1)\n",
    "\n",
    "# encoding layer1 to encoding layer 2\n",
    "enc_layer2 = tf.nn.sigmoid(tf.matmul(enc_layer1, W_2) + b_2)\n",
    "\n",
    "# encoding layer2 to decoding layer 1\n",
    "dec_layer1 = tf.nn.sigmoid(tf.matmul(enc_layer2, dW_1) + db_1)\n",
    "\n",
    "# decoding layer1 to decoding layer 2\n",
    "dec_layer2 = tf.nn.sigmoid(tf.matmul(dec_layer1, dW_2) + db_2)"
   ]
  },
  {
   "cell_type": "code",
   "execution_count": 4,
   "metadata": {
    "collapsed": true
   },
   "outputs": [],
   "source": [
    "### The L2 loss\n",
    "loss = tf.reduce_mean(tf.pow(dec_layer2-x,2))\n",
    "\n",
    "### The training algorithm, gradient descent based on cross entropy\n",
    "#train_step = tf.train.RMSPropOptimizer(0.01).minimize(loss)\n",
    "train_step = tf.train.AdamOptimizer(0.01).minimize(loss)"
   ]
  },
  {
   "cell_type": "code",
   "execution_count": 5,
   "metadata": {
    "collapsed": true
   },
   "outputs": [],
   "source": [
    "### Initialise the variables of the graph e.g. x, y_, W, b\n",
    "sess = tf.Session()\n",
    "sess.run(tf.global_variables_initializer())"
   ]
  },
  {
   "cell_type": "code",
   "execution_count": 6,
   "metadata": {
    "collapsed": false
   },
   "outputs": [
    {
     "name": "stdout",
     "output_type": "stream",
     "text": [
      "Step 0, with loss 0.238358\n",
      "Step 400, with loss 0.0547871\n",
      "Step 800, with loss 0.0334347\n",
      "Step 1200, with loss 0.0245571\n",
      "Step 1600, with loss 0.0183484\n"
     ]
    }
   ],
   "source": [
    "### Go through and do 10 iterations of training, using a batch of 100 samples\n",
    "display_num = 4\n",
    "display_image = scipy.zeros((28*2,28*display_num))\n",
    "\n",
    "for i in range(2000):\n",
    "  # Randomly select a batch of 100 samples\n",
    "  batch = mnist.train.next_batch(100)\n",
    "    \n",
    "  # Take the images and x is equal to them, y_ is equal to the labels\n",
    "  _, l2_loss, recon_images = sess.run([train_step, loss, dec_layer2], feed_dict={x: batch[0]})\n",
    "\n",
    "  #\n",
    "  if i % 400 == 0:\n",
    "    print('Step %d, with loss %g' % (i, l2_loss))\n",
    "    for j in range(display_num):\n",
    "      display_image[0:28,j*28:(j+1)*28] = batch[0][j].reshape([28,28])\n",
    "      display_image[28:2*28,j*28:(j+1)*28] = recon_images[j].reshape([28,28])\n",
    "    plt.figure()\n",
    "    plt.imshow(display_image, 'gray')\n",
    "    plt.show()    "
   ]
  }
 ],
 "metadata": {
  "kernelspec": {
   "display_name": "Python 2",
   "language": "python",
   "name": "python2"
  },
  "language_info": {
   "codemirror_mode": {
    "name": "ipython",
    "version": 2
   },
   "file_extension": ".py",
   "mimetype": "text/x-python",
   "name": "python",
   "nbconvert_exporter": "python",
   "pygments_lexer": "ipython2",
   "version": "2.7.9"
  }
 },
 "nbformat": 4,
 "nbformat_minor": 2
}
